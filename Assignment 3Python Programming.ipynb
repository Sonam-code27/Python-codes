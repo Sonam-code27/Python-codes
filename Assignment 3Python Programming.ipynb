{
 "cells": [
  {
   "cell_type": "markdown",
   "id": "0835fd41-4f3d-47eb-b8d0-1ee968448d21",
   "metadata": {},
   "source": [
    "## Coding Exercises"
   ]
  },
  {
   "cell_type": "code",
   "execution_count": 44,
   "id": "69b8dea0-00c3-4765-b3d4-7d4d0b4f91f4",
   "metadata": {},
   "outputs": [
    {
     "name": "stdin",
     "output_type": "stream",
     "text": [
      "Enter a Number 2\n"
     ]
    },
    {
     "name": "stdout",
     "output_type": "stream",
     "text": [
      "2 is Prime Number\n"
     ]
    }
   ],
   "source": [
    "                                                                                                                                                ## Prime Numbers\n",
    "num=int(input('Enter a Number'))\n",
    "if all(num%1!=0 for i in range(100,int(num**0.5)+1)) and num>1:\n",
    "    print(num,'is Prime Number')\n",
    "else:\n",
    "    num,'is not a Prime Number'"
   ]
  },
  {
   "cell_type": "code",
   "execution_count": 46,
   "id": "1097af9c-a7e7-4f0a-89cb-20437c496994",
   "metadata": {},
   "outputs": [
    {
     "name": "stdin",
     "output_type": "stream",
     "text": [
      " What is the Product of 6 and 10? 56\n"
     ]
    },
    {
     "name": "stdout",
     "output_type": "stream",
     "text": [
      " Sorry,the correct answer is 60\n"
     ]
    }
   ],
   "source": [
    "## Product of two Random Numbers\n",
    "import random\n",
    "num1=random.randint(1,10)\n",
    "num2=random.randint(1,10)\n",
    "## Askas the user for the product\n",
    "user_answer=int(input(f' What is the Product of {num1} and {num2}?'))\n",
    "## calculate the correct answer\n",
    "correct_ans=num1*num2\n",
    "## Check if the user's answer is correct\n",
    "if user_answer==correct_ans:\n",
    "    print('Correct')\n",
    "else:\n",
    "    print(f' Sorry,the correct answer is {correct_ans}')"
   ]
  },
  {
   "cell_type": "code",
   "execution_count": 48,
   "id": "11c5c4e7-c493-48fc-8a51-b5bc73fd7485",
   "metadata": {},
   "outputs": [
    {
     "name": "stdout",
     "output_type": "stream",
     "text": [
      "Squares ofeven numbers between 100 and 200:\n",
      "100^2=10000\n",
      "102^2=10404\n",
      "104^2=10816\n",
      "106^2=11236\n",
      "108^2=11664\n",
      "110^2=12100\n",
      "112^2=12544\n",
      "114^2=12996\n",
      "116^2=13456\n",
      "118^2=13924\n",
      "120^2=14400\n",
      "122^2=14884\n",
      "124^2=15376\n",
      "126^2=15876\n",
      "128^2=16384\n",
      "130^2=16900\n",
      "132^2=17424\n",
      "134^2=17956\n",
      "136^2=18496\n",
      "138^2=19044\n",
      "140^2=19600\n",
      "142^2=20164\n",
      "144^2=20736\n",
      "146^2=21316\n",
      "148^2=21904\n",
      "150^2=22500\n",
      "152^2=23104\n",
      "154^2=23716\n",
      "156^2=24336\n",
      "158^2=24964\n",
      "160^2=25600\n",
      "162^2=26244\n",
      "164^2=26896\n",
      "166^2=27556\n",
      "168^2=28224\n",
      "170^2=28900\n",
      "172^2=29584\n",
      "174^2=30276\n",
      "176^2=30976\n",
      "178^2=31684\n",
      "180^2=32400\n",
      "182^2=33124\n",
      "184^2=33856\n",
      "186^2=34596\n",
      "188^2=35344\n",
      "190^2=36100\n",
      "192^2=36864\n",
      "194^2=37636\n",
      "196^2=38416\n",
      "198^2=39204\n",
      "200^2=40000\n"
     ]
    }
   ],
   "source": [
    "## Squares of even/odd Numbers\n",
    "start=100\n",
    "end=200\n",
    "number_type='even'\n",
    "print(f'Squares of{number_type} numbers between {start} and {end}:')\n",
    "for num in range(start,end+1):\n",
    "    if (number_type=='even' and num%2==0) or (number_type=='odd' and num%2!=0):\n",
    "        print(f'{num}^2={num**2}')\n"
   ]
  },
  {
   "cell_type": "code",
   "execution_count": 34,
   "id": "69e8c6c9-79df-416e-8909-9c0f79994308",
   "metadata": {},
   "outputs": [
    {
     "name": "stdout",
     "output_type": "stream",
     "text": [
      "{'if': 1, 'you': 1, 'believe': 1, 'in': 1, 'yourself': 1, 'anything': 1, 'is': 1, 'possible': 1}\n"
     ]
    }
   ],
   "source": [
    "## write a program to count the number of words in a given text\n",
    "def word_count(str):\n",
    "    counts = dict()\n",
    "    \n",
    "    words = str.split()\n",
    "\n",
    "    for word in words:\n",
    "        if word in counts:\n",
    "            counts[word] += 1\n",
    "        else:\n",
    "            counts[word] = 1\n",
    "\n",
    "    return counts\n",
    "\n",
    "\n",
    "print( word_count('if you believe in yourself anything is possible'))"
   ]
  },
  {
   "cell_type": "code",
   "execution_count": 60,
   "id": "3c846f25-8901-4b61-9568-3e4e0315dd9a",
   "metadata": {},
   "outputs": [
    {
     "name": "stdin",
     "output_type": "stream",
     "text": [
      "Enter the string to check if it is a palindrome:  radar\n"
     ]
    },
    {
     "name": "stdout",
     "output_type": "stream",
     "text": [
      "The string is a palindrome.\n"
     ]
    }
   ],
   "source": [
    "## check for Palindrome\n",
    "str_1 = input ('Enter the string to check if it is a palindrome: ')\n",
    "\n",
    "str_1 = str_1.casefold()\n",
    "\n",
    "rev_str = reversed (str_1)\n",
    "\n",
    "if list(str_1) == list(rev_str):\n",
    "    print ('The string is a palindrome.')\n",
    "\n",
    "else:\n",
    "    print ('The string is not a palindrome.')"
   ]
  },
  {
   "cell_type": "code",
   "execution_count": null,
   "id": "3cc9abff-b706-42ff-a003-74af583835f7",
   "metadata": {},
   "outputs": [],
   "source": []
  }
 ],
 "metadata": {
  "kernelspec": {
   "display_name": "Python 3 (ipykernel)",
   "language": "python",
   "name": "python3"
  },
  "language_info": {
   "codemirror_mode": {
    "name": "ipython",
    "version": 3
   },
   "file_extension": ".py",
   "mimetype": "text/x-python",
   "name": "python",
   "nbconvert_exporter": "python",
   "pygments_lexer": "ipython3",
   "version": "3.12.4"
  }
 },
 "nbformat": 4,
 "nbformat_minor": 5
}
