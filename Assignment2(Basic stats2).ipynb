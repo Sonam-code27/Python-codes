{
 "cells": [
  {
   "cell_type": "code",
   "execution_count": 1,
   "id": "c405339f-5500-4f49-a8ef-751302b5512d",
   "metadata": {},
   "outputs": [],
   "source": [
    "import pandas as pd\n",
    "import numpy as np\n",
    "import scipy.stats as stats"
   ]
  },
  {
   "cell_type": "code",
   "execution_count": 2,
   "id": "35faa660-da3e-4c67-9df9-88f9f15ea89e",
   "metadata": {},
   "outputs": [],
   "source": [
    "sample=[1.13,1.55,1.43,0.92,1.25,1.36,1.32,0.85,1.07,1.48,1.20,1.33,1.18,1.22,1.29]"
   ]
  },
  {
   "cell_type": "code",
   "execution_count": 3,
   "id": "386ec431-9ca4-40ab-8794-ef39e90c5c30",
   "metadata": {},
   "outputs": [],
   "source": [
    "df=pd.DataFrame(sample)"
   ]
  },
  {
   "cell_type": "code",
   "execution_count": 7,
   "id": "1269dd6f-3e19-4258-9a3e-6b35ed4663bf",
   "metadata": {},
   "outputs": [
    {
     "data": {
      "text/plain": [
       "0    1.238667\n",
       "dtype: float64"
      ]
     },
     "execution_count": 7,
     "metadata": {},
     "output_type": "execute_result"
    }
   ],
   "source": [
    "x_bar=df.mean()\n",
    "x_bar"
   ]
  },
  {
   "cell_type": "code",
   "execution_count": 9,
   "id": "2d8031b0-71ee-4833-b537-e3ef080d2d75",
   "metadata": {},
   "outputs": [
    {
     "data": {
      "text/plain": [
       "0    0.193164\n",
       "dtype: float64"
      ]
     },
     "execution_count": 9,
     "metadata": {},
     "output_type": "execute_result"
    }
   ],
   "source": [
    "s=df.std()\n",
    "s"
   ]
  },
  {
   "cell_type": "code",
   "execution_count": 11,
   "id": "b0cbb308-dd4a-44cb-a73d-2828f25fce52",
   "metadata": {},
   "outputs": [
    {
     "data": {
      "text/plain": [
       "14"
      ]
     },
     "execution_count": 11,
     "metadata": {},
     "output_type": "execute_result"
    }
   ],
   "source": [
    "## Given data\n",
    "n=15\n",
    "x_bar=1.23\n",
    "## alpha=0.01(1%)  CI=1-alpha=0.99(99%)\n",
    "df1=n-1\n",
    "df1"
   ]
  },
  {
   "cell_type": "code",
   "execution_count": 13,
   "id": "09dcba9f-6ff9-460c-b2c5-2e1ccadcea93",
   "metadata": {},
   "outputs": [
    {
     "data": {
      "text/plain": [
       "2.976842734370834"
      ]
     },
     "execution_count": 13,
     "metadata": {},
     "output_type": "execute_result"
    }
   ],
   "source": [
    "## Build 99% CI using Sample Standard Deviation\n",
    "t_critcal= stats.t.ppf(0.995,df1)\n",
    "t_critcal"
   ]
  },
  {
   "cell_type": "code",
   "execution_count": 15,
   "id": "8b6f5f4c-dff8-4e2c-a15b-e6c982c12ef8",
   "metadata": {},
   "outputs": [
    {
     "data": {
      "text/plain": [
       "0    1.081531\n",
       "dtype: float64"
      ]
     },
     "execution_count": 15,
     "metadata": {},
     "output_type": "execute_result"
    }
   ],
   "source": [
    "## (x_bar+_ tcritical*s/sqrt(n))\n",
    "Pop_mean_lower= x_bar-(t_critcal*s/np.sqrt(n))\n",
    "Pop_mean_lower"
   ]
  },
  {
   "cell_type": "code",
   "execution_count": 17,
   "id": "6c01a8e2-cb3e-47e9-a23b-aa3bbfd8324d",
   "metadata": {},
   "outputs": [
    {
     "data": {
      "text/plain": [
       "0    1.378469\n",
       "dtype: float64"
      ]
     },
     "execution_count": 17,
     "metadata": {},
     "output_type": "execute_result"
    }
   ],
   "source": [
    "Pop_mean_upper= x_bar+(t_critcal*s/np.sqrt(n))\n",
    "Pop_mean_upper"
   ]
  },
  {
   "cell_type": "code",
   "execution_count": 60,
   "id": "9c495508-f961-42e8-9dc9-044ad4e01d37",
   "metadata": {},
   "outputs": [
    {
     "data": {
      "text/plain": [
       "49"
      ]
     },
     "execution_count": 60,
     "metadata": {},
     "output_type": "execute_result"
    }
   ],
   "source": [
    "## Build 99% CI using known Population Standard Deviation\n",
    "## Given Data\n",
    "\n",
    "s1=0.2\n",
    "n1=50\n",
    "alpha=0.01\n",
    "df2=n1-1\n",
    "df2\n"
   ]
  },
  {
   "cell_type": "code",
   "execution_count": 66,
   "id": "c726bceb-ebfc-4936-8e25-1df5834169ab",
   "metadata": {},
   "outputs": [],
   "source": [
    "import pandas as pd"
   ]
  },
  {
   "cell_type": "code",
   "execution_count": 74,
   "id": "c302c6d8-9d4b-405d-b65a-7a5e54763f3d",
   "metadata": {},
   "outputs": [],
   "source": [
    "## sample data(0.2 million characters)\n",
    "data=pd.DataFrame({'chars':np.random.choice(['a','b','c','d','e'],size=200000)})"
   ]
  },
  {
   "cell_type": "code",
   "execution_count": 82,
   "id": "0cd4eb47-4534-4a53-a9a3-b0508409de65",
   "metadata": {},
   "outputs": [],
   "source": [
    "data['num']=data['chars'].apply(ord)"
   ]
  },
  {
   "cell_type": "code",
   "execution_count": 84,
   "id": "775f3881-9109-4f84-9863-934b8db2abee",
   "metadata": {},
   "outputs": [
    {
     "name": "stdout",
     "output_type": "stream",
     "text": [
      "98.998995\n"
     ]
    }
   ],
   "source": [
    "sample_mean=data['num'].mean()\n",
    "print(sample_mean)"
   ]
  },
  {
   "cell_type": "code",
   "execution_count": 76,
   "id": "0380870e-d533-4bec-b35c-bc4f4d00fa21",
   "metadata": {},
   "outputs": [],
   "source": [
    "z_critical=stats.t.ppf(0.995,df2)"
   ]
  },
  {
   "cell_type": "code",
   "execution_count": 78,
   "id": "cec000e4-074e-46d3-b51e-31f2231c653b",
   "metadata": {},
   "outputs": [
    {
     "data": {
      "text/plain": [
       "2.67995197363155"
      ]
     },
     "execution_count": 78,
     "metadata": {},
     "output_type": "execute_result"
    }
   ],
   "source": [
    "z_critical"
   ]
  },
  {
   "cell_type": "code",
   "execution_count": 80,
   "id": "c7293e43-1159-4a17-8172-e6660e13eafd",
   "metadata": {},
   "outputs": [
    {
     "data": {
      "text/plain": [
       "0.13839212483347588"
      ]
     },
     "execution_count": 80,
     "metadata": {},
     "output_type": "execute_result"
    }
   ],
   "source": [
    "Margin_of_error= z_critical*(s1/np.sqrt(n))\n",
    "Margin_of_error"
   ]
  },
  {
   "cell_type": "code",
   "execution_count": 88,
   "id": "49d882ba-f7f0-4400-a549-a01e3b928141",
   "metadata": {},
   "outputs": [
    {
     "data": {
      "text/plain": [
       "98.86060287516652"
      ]
     },
     "execution_count": 88,
     "metadata": {},
     "output_type": "execute_result"
    }
   ],
   "source": [
    "Lower_bound99=sample_mean-Margin_of_error\n",
    "Lower_bound99"
   ]
  },
  {
   "cell_type": "code",
   "execution_count": 92,
   "id": "529ae6eb-2c55-426d-8b90-2d64ef5d88ad",
   "metadata": {},
   "outputs": [
    {
     "data": {
      "text/plain": [
       "99.13738712483347"
      ]
     },
     "execution_count": 92,
     "metadata": {},
     "output_type": "execute_result"
    }
   ],
   "source": [
    "Upper_bound99=sample_mean+Margin_of_error\n",
    "Upper_bound99"
   ]
  },
  {
   "cell_type": "code",
   "execution_count": null,
   "id": "fe62a0f5-74a5-4ce1-9b9c-40892655754d",
   "metadata": {},
   "outputs": [],
   "source": []
  }
 ],
 "metadata": {
  "kernelspec": {
   "display_name": "Python 3 (ipykernel)",
   "language": "python",
   "name": "python3"
  },
  "language_info": {
   "codemirror_mode": {
    "name": "ipython",
    "version": 3
   },
   "file_extension": ".py",
   "mimetype": "text/x-python",
   "name": "python",
   "nbconvert_exporter": "python",
   "pygments_lexer": "ipython3",
   "version": "3.12.4"
  }
 },
 "nbformat": 4,
 "nbformat_minor": 5
}
