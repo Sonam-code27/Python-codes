{
 "cells": [
  {
   "cell_type": "code",
   "execution_count": 1,
   "id": "3cc42562-6ff5-4f81-8a75-526cf03e8012",
   "metadata": {},
   "outputs": [],
   "source": [
    "import numpy as np\n",
    "import scipy.stats as stats\n"
   ]
  },
  {
   "cell_type": "code",
   "execution_count": 3,
   "id": "0ba7f292-a0f8-4b04-9c31-e2d1fcccee64",
   "metadata": {},
   "outputs": [],
   "source": [
    "# Given data\n",
    "n = 25  # Sample size\n",
    "sample_mean = 3050 \n",
    "mean_X = 600 \n",
    "std_X = 25  \n",
    "theoretical_fixed_cost = 1000  \n",
    "cost_per_unit = 5"
   ]
  },
  {
   "cell_type": "code",
   "execution_count": 17,
   "id": "67544496-eb85-4fe9-9824-d171e19ff12b",
   "metadata": {},
   "outputs": [
    {
     "data": {
      "text/plain": [
       "4000"
      ]
     },
     "execution_count": 17,
     "metadata": {},
     "output_type": "execute_result"
    }
   ],
   "source": [
    "# Theoretical cost based on the mean number of units produced(X=600)\n",
    "theoretical_mean_cost=theoretical_fixed_cost+cost_per_unit*mean_X\n",
    "theoretical_mean_cost"
   ]
  },
  {
   "cell_type": "code",
   "execution_count": 19,
   "id": "df092231-6fe4-4c7e-9ee9-971fceea6dd2",
   "metadata": {},
   "outputs": [
    {
     "data": {
      "text/plain": [
       "125"
      ]
     },
     "execution_count": 19,
     "metadata": {},
     "output_type": "execute_result"
    }
   ],
   "source": [
    "#Standard deviation of the weekly operating cost\n",
    "std_cost=cost_per_unit*std_X\n",
    "std_cost"
   ]
  },
  {
   "cell_type": "code",
   "execution_count": 9,
   "id": "658ce540-8eec-4d9c-bb0f-f314f4e81e7f",
   "metadata": {},
   "outputs": [],
   "source": [
    "#Z-test Statistic\n",
    "z_score=(sample_mean-theoretical_mean_cost)/(std_cost/np.sqrt(n))"
   ]
  },
  {
   "cell_type": "code",
   "execution_count": 11,
   "id": "5ade12b5-6802-4b35-9993-741f52e5d553",
   "metadata": {},
   "outputs": [
    {
     "data": {
      "text/plain": [
       "-38.0"
      ]
     },
     "execution_count": 11,
     "metadata": {},
     "output_type": "execute_result"
    }
   ],
   "source": [
    "z_score"
   ]
  },
  {
   "cell_type": "code",
   "execution_count": 21,
   "id": "ed6fc714-9a37-415c-8926-0a9f8fb3c60c",
   "metadata": {},
   "outputs": [],
   "source": [
    "z_critical=stats.norm.ppf(0.95)"
   ]
  },
  {
   "cell_type": "code",
   "execution_count": 23,
   "id": "3658b7e7-4dc6-4782-925e-6cc6621144e5",
   "metadata": {},
   "outputs": [
    {
     "data": {
      "text/plain": [
       "1.6448536269514722"
      ]
     },
     "execution_count": 23,
     "metadata": {},
     "output_type": "execute_result"
    }
   ],
   "source": [
    "z_critical"
   ]
  },
  {
   "cell_type": "code",
   "execution_count": 25,
   "id": "c40ed7d0-dde9-4a42-a25f-bd7b7ff3119f",
   "metadata": {},
   "outputs": [
    {
     "name": "stdout",
     "output_type": "stream",
     "text": [
      "Fail to reject the null hypothesis:Operating costs are as expected\n"
     ]
    }
   ],
   "source": [
    "if z_score>z_critical:\n",
    "    print(\"Reject the null hypothesis:Operating costs have increased.\")\n",
    "\n",
    "else:\n",
    "    print(\"Fail to reject the null hypothesis:Operating costs are as expected\")\n",
    "\n",
    "\n",
    "\n",
    "\n",
    "\n"
   ]
  },
  {
   "cell_type": "code",
   "execution_count": null,
   "id": "fe557b78-cdd2-438b-b3c8-b98021e0d413",
   "metadata": {},
   "outputs": [],
   "source": []
  }
 ],
 "metadata": {
  "kernelspec": {
   "display_name": "Python 3 (ipykernel)",
   "language": "python",
   "name": "python3"
  },
  "language_info": {
   "codemirror_mode": {
    "name": "ipython",
    "version": 3
   },
   "file_extension": ".py",
   "mimetype": "text/x-python",
   "name": "python",
   "nbconvert_exporter": "python",
   "pygments_lexer": "ipython3",
   "version": "3.12.4"
  }
 },
 "nbformat": 4,
 "nbformat_minor": 5
}
