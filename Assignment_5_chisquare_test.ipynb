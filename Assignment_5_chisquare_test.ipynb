{
 "cells": [
  {
   "cell_type": "code",
   "execution_count": 11,
   "id": "1ecba0f1-5da0-4012-8849-d5d2a82d5437",
   "metadata": {},
   "outputs": [],
   "source": [
    "import numpy as np\n",
    "import scipy.stats as stats\n"
   ]
  },
  {
   "cell_type": "code",
   "execution_count": 30,
   "id": "e11eae21-a1ea-4825-854d-665f88641115",
   "metadata": {},
   "outputs": [],
   "source": [
    "smart_t=[50,80,60,30,20]\n",
    "smart_l=[70,100,90,50,50]"
   ]
  },
  {
   "cell_type": "code",
   "execution_count": 16,
   "id": "1cc887cd-daf7-4841-ae51-6738f6a587da",
   "metadata": {},
   "outputs": [],
   "source": [
    "observed=np.array([[50,70],[80,100],[60,90],[30,50],[20,50]])"
   ]
  },
  {
   "cell_type": "code",
   "execution_count": 46,
   "id": "1eec9b77-d1ab-4c9b-94ee-4d446f3b9f02",
   "metadata": {},
   "outputs": [
    {
     "data": {
      "text/plain": [
       "600"
      ]
     },
     "execution_count": 46,
     "metadata": {},
     "output_type": "execute_result"
    }
   ],
   "source": [
    "rows_totals=observed.sum(axis=1)\n",
    "rows_totals\n",
    "col_totals=observed.sum(axis=0)\n",
    "col_totals\n",
    "grand_total=observed.sum()\n",
    "grand_total"
   ]
  },
  {
   "cell_type": "code",
   "execution_count": 52,
   "id": "cef6a201-75f5-475d-b170-167d48557700",
   "metadata": {},
   "outputs": [
    {
     "data": {
      "text/plain": [
       "array([[ 48.,  72.],\n",
       "       [ 72., 108.],\n",
       "       [ 60.,  90.],\n",
       "       [ 32.,  48.],\n",
       "       [ 28.,  42.]])"
      ]
     },
     "execution_count": 52,
     "metadata": {},
     "output_type": "execute_result"
    }
   ],
   "source": [
    "expected=np.outer(rows_totals,col_totals)/grand_total\n",
    "expected"
   ]
  },
  {
   "cell_type": "code",
   "execution_count": 56,
   "id": "3bdcf134-6f4e-4b5c-95a7-85e3f45e5fe6",
   "metadata": {},
   "outputs": [
    {
     "data": {
      "text/plain": [
       "5.638227513227513"
      ]
     },
     "execution_count": 56,
     "metadata": {},
     "output_type": "execute_result"
    }
   ],
   "source": [
    "chisquare_statistics=((observed-expected)**2/expected).sum()\n",
    "chisquare_statistics"
   ]
  },
  {
   "cell_type": "code",
   "execution_count": 58,
   "id": "d3397303-44e3-4383-9749-2a46c81095c3",
   "metadata": {},
   "outputs": [
    {
     "data": {
      "text/plain": [
       "4"
      ]
     },
     "execution_count": 58,
     "metadata": {},
     "output_type": "execute_result"
    }
   ],
   "source": [
    "df=(observed.shape[0]-1)*(observed.shape[1]-1)\n",
    "df"
   ]
  },
  {
   "cell_type": "code",
   "execution_count": 65,
   "id": "9e754607-1532-4b24-aadb-84661c1e8365",
   "metadata": {},
   "outputs": [
    {
     "data": {
      "text/plain": [
       "9.487729036781154"
      ]
     },
     "execution_count": 65,
     "metadata": {},
     "output_type": "execute_result"
    }
   ],
   "source": [
    "c_critical=stats.chi2.ppf(0.95,4)\n",
    "c_critical\n"
   ]
  },
  {
   "cell_type": "code",
   "execution_count": 71,
   "id": "d3f118a3-edba-4963-8ba5-c14142dd96d0",
   "metadata": {},
   "outputs": [
    {
     "data": {
      "text/plain": [
       "False"
      ]
     },
     "execution_count": 71,
     "metadata": {},
     "output_type": "execute_result"
    }
   ],
   "source": [
    "reject_null=chisquare_statistics>c_critical\n",
    "reject_null"
   ]
  },
  {
   "cell_type": "code",
   "execution_count": null,
   "id": "1539ff11-e5aa-478f-8db8-46fb10355af2",
   "metadata": {},
   "outputs": [],
   "source": [
    "# Since failed to reject null hypothesis"
   ]
  }
 ],
 "metadata": {
  "kernelspec": {
   "display_name": "Python 3 (ipykernel)",
   "language": "python",
   "name": "python3"
  },
  "language_info": {
   "codemirror_mode": {
    "name": "ipython",
    "version": 3
   },
   "file_extension": ".py",
   "mimetype": "text/x-python",
   "name": "python",
   "nbconvert_exporter": "python",
   "pygments_lexer": "ipython3",
   "version": "3.12.4"
  }
 },
 "nbformat": 4,
 "nbformat_minor": 5
}
